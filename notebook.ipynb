{
  "nbformat": 4,
  "nbformat_minor": 0,
  "metadata": {
    "colab": {
      "provenance": []
    },
    "kernelspec": {
      "name": "python3",
      "display_name": "Python 3"
    },
    "language_info": {
      "name": "python"
    }
  },
  "cells": [
    {
      "cell_type": "code",
      "execution_count": null,
      "metadata": {
        "id": "wmdJ3gmx0VOZ"
      },
      "outputs": [],
      "source": [
        "# CORD-19 Data Exploration Notebook\n",
        "\n",
        "import pandas as pd\n",
        "import matplotlib.pyplot as plt\n",
        "from collections import Counter\n",
        "from wordcloud import WordCloud\n",
        "import re\n",
        "\n",
        "# Load dataset\n",
        "df = pd.read_csv('metadata.csv')\n",
        "\n",
        "# Preview data\n",
        "df.head()\n",
        "\n",
        "# Basic info\n",
        "print(df.shape)\n",
        "print(df.info())\n",
        "\n",
        "# Check missing values\n",
        "print(df.isnull().sum())\n",
        "\n",
        "# Convert publish_time to datetime and extract year\n",
        "df['publish_time'] = pd.to_datetime(df['publish_time'], errors='coerce')\n",
        "df['year'] = df['publish_time'].dt.year\n",
        "\n",
        "# Fill missing values\n",
        "df['title'].fillna('', inplace=True)\n",
        "df['journal'].fillna('Unknown', inplace=True)\n",
        "\n",
        "# Create abstract word count\n",
        "df['abstract_word_count'] = df['abstract'].apply(lambda x: len(str(x).split()))\n",
        "\n",
        "# --- Analysis and Visualization ---\n",
        "\n",
        "# Publications by year\n",
        "year_counts = df['year'].value_counts().sort_index()\n",
        "plt.figure(figsize=(10,5))\n",
        "plt.bar(year_counts.index, year_counts.values, color='skyblue')\n",
        "plt.xlabel('Year')\n",
        "plt.ylabel('Number of Publications')\n",
        "plt.title('Publications by Year')\n",
        "plt.show()\n",
        "\n",
        "# Top 10 journals\n",
        "top_journals = df['journal'].value_counts().head(10)\n",
        "top_journals.plot(kind='bar', figsize=(10,5), color='coral')\n",
        "plt.title('Top 10 Journals Publishing COVID-19 Research')\n",
        "plt.show()\n",
        "\n",
        "# Word frequency in titles\n",
        "all_titles = ' '.join(df['title'].tolist()).lower()\n",
        "words = re.findall(r'\\b\\w+\\b', all_titles)\n",
        "word_counts = Counter(words)\n",
        "common_words = word_counts.most_common(20)\n",
        "\n",
        "words_df = pd.DataFrame(common_words, columns=['word','count'])\n",
        "words_df.plot(kind='bar', x='word', y='count', legend=False, figsize=(12,5), color='green')\n",
        "plt.title('Most Frequent Words in Titles')\n",
        "plt.show()\n",
        "\n",
        "# Word Cloud\n",
        "wordcloud = WordCloud(width=800, height=400, background_color='white').generate(all_titles)\n",
        "plt.figure(figsize=(15,7))\n",
        "plt.imshow(wordcloud, interpolation='bilinear')\n",
        "plt.axis('off')\n",
        "plt.show()\n"
      ]
    }
  ]
}